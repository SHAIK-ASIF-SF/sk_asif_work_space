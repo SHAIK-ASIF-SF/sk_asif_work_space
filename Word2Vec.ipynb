{
  "nbformat": 4,
  "nbformat_minor": 0,
  "metadata": {
    "colab": {
      "provenance": []
    },
    "kernelspec": {
      "name": "python3",
      "display_name": "Python 3"
    },
    "language_info": {
      "name": "python"
    }
  },
  "cells": [
    {
      "cell_type": "code",
      "execution_count": 1,
      "metadata": {
        "id": "nhts9WfORary"
      },
      "outputs": [],
      "source": [
        "import pandas as pd\n",
        "from sklearn.model_selection import train_test_split\n",
        "from nltk.corpus import stopwords\n",
        "from nltk.tokenize import word_tokenize\n",
        "import string\n",
        "from gensim.models import Word2Vec\n",
        "import numpy as np\n",
        "from sklearn.linear_model import LogisticRegression\n",
        "from sklearn.metrics import accuracy_score, precision_score, recall_score, f1_score"
      ]
    },
    {
      "cell_type": "code",
      "source": [
        "data = pd.read_excel('/content/IMDB_Dataset_sample.xlsx')"
      ],
      "metadata": {
        "id": "W4DEJ75sRdV6"
      },
      "execution_count": 2,
      "outputs": []
    },
    {
      "cell_type": "code",
      "source": [
        "X_train, X_test, y_train, y_test = train_test_split(data['review'], data['sentiment'], test_size=0.2, random_state=42)"
      ],
      "metadata": {
        "id": "1d8twVHgSQ0e"
      },
      "execution_count": 3,
      "outputs": []
    },
    {
      "cell_type": "code",
      "source": [
        "import nltk\n",
        "nltk.download('stopwords')\n",
        "nltk.download('punkt')"
      ],
      "metadata": {
        "colab": {
          "base_uri": "https://localhost:8080/"
        },
        "id": "np5ZNIl0SUKH",
        "outputId": "ce517dd2-1991-4dfa-c355-bf3054997182"
      },
      "execution_count": 4,
      "outputs": [
        {
          "output_type": "stream",
          "name": "stderr",
          "text": [
            "[nltk_data] Downloading package stopwords to /root/nltk_data...\n",
            "[nltk_data]   Unzipping corpora/stopwords.zip.\n",
            "[nltk_data] Downloading package punkt to /root/nltk_data...\n",
            "[nltk_data]   Unzipping tokenizers/punkt.zip.\n"
          ]
        },
        {
          "output_type": "execute_result",
          "data": {
            "text/plain": [
              "True"
            ]
          },
          "metadata": {},
          "execution_count": 4
        }
      ]
    },
    {
      "cell_type": "code",
      "source": [
        "stop_words = set(stopwords.words('english'))\n",
        "def preprocess(text):\n",
        "    text = text.lower()\n",
        "    text = ''.join([word for word in text if word not in string.punctuation])\n",
        "    tokens = word_tokenize(text)\n",
        "    tokens = [word for word in tokens if word not in stop_words]\n",
        "    return ' '.join(tokens)\n",
        "X_train = X_train.apply(preprocess)\n",
        "X_test = X_test.apply(preprocess)"
      ],
      "metadata": {
        "id": "Nkei2UJwSWj6"
      },
      "execution_count": 5,
      "outputs": []
    },
    {
      "cell_type": "code",
      "source": [
        "# Train the Word2Vec model\n",
        "# we are calling each sentence from X_train\n",
        "# we are spliting :  it becomes words\n",
        "# we have 40k lists are there\n",
        "# each list has words\n",
        "sentences = [sentence.split() for sentence in X_train]\n",
        "len(sentences)"
      ],
      "metadata": {
        "colab": {
          "base_uri": "https://localhost:8080/"
        },
        "id": "WX1Wn1sqSa2o",
        "outputId": "36c0cf4a-7827-4b97-f154-e6d2a867f601"
      },
      "execution_count": 6,
      "outputs": [
        {
          "output_type": "execute_result",
          "data": {
            "text/plain": [
              "891"
            ]
          },
          "metadata": {},
          "execution_count": 6
        }
      ]
    },
    {
      "cell_type": "code",
      "source": [
        "len(sentences[0])"
      ],
      "metadata": {
        "colab": {
          "base_uri": "https://localhost:8080/"
        },
        "id": "P2-3TiV8Sd1_",
        "outputId": "1d65fd43-90e1-4422-b293-9bd2bf7fdb74"
      },
      "execution_count": 7,
      "outputs": [
        {
          "output_type": "execute_result",
          "data": {
            "text/plain": [
              "69"
            ]
          },
          "metadata": {},
          "execution_count": 7
        }
      ]
    },
    {
      "cell_type": "code",
      "source": [
        "\n",
        "w2v_model = Word2Vec(sentences, window=5, min_count=5, workers=4)\n",
        "w2v_model\n",
        "# default vector size =100"
      ],
      "metadata": {
        "colab": {
          "base_uri": "https://localhost:8080/"
        },
        "id": "bb6ywk82SgiL",
        "outputId": "a9a29c99-3a3e-4dd5-fb18-f7a04c101c24"
      },
      "execution_count": 8,
      "outputs": [
        {
          "output_type": "execute_result",
          "data": {
            "text/plain": [
              "<gensim.models.word2vec.Word2Vec at 0x7d5d41bd3760>"
            ]
          },
          "metadata": {},
          "execution_count": 8
        }
      ]
    },
    {
      "cell_type": "code",
      "source": [
        " len(w2v_model.wv['king'])"
      ],
      "metadata": {
        "colab": {
          "base_uri": "https://localhost:8080/"
        },
        "id": "P89OHuZhSioV",
        "outputId": "d82f6c67-ee60-47b0-862c-da6557b196e0"
      },
      "execution_count": 9,
      "outputs": [
        {
          "output_type": "execute_result",
          "data": {
            "text/plain": [
              "100"
            ]
          },
          "metadata": {},
          "execution_count": 9
        }
      ]
    },
    {
      "cell_type": "code",
      "source": [
        "w2v_model.corpus_total_words"
      ],
      "metadata": {
        "colab": {
          "base_uri": "https://localhost:8080/"
        },
        "id": "tpW75AgrSmiA",
        "outputId": "6e367d53-2c5d-4550-eebe-13460edb17e2"
      },
      "execution_count": 10,
      "outputs": [
        {
          "output_type": "execute_result",
          "data": {
            "text/plain": [
              "108286"
            ]
          },
          "metadata": {},
          "execution_count": 10
        }
      ]
    },
    {
      "cell_type": "code",
      "source": [
        "w2v_model.wv['good']"
      ],
      "metadata": {
        "colab": {
          "base_uri": "https://localhost:8080/"
        },
        "id": "Ea6m0pveSpOH",
        "outputId": "5f17078d-ffc7-41af-90f4-dc3a243ceb3d"
      },
      "execution_count": 11,
      "outputs": [
        {
          "output_type": "execute_result",
          "data": {
            "text/plain": [
              "array([-0.47121397,  0.53321797,  0.17737779,  0.10502806,  0.18202044,\n",
              "       -0.96742344,  0.21887799,  0.95305985, -0.43076065, -0.43004873,\n",
              "       -0.43316227, -0.8889222 , -0.13134883,  0.24425916,  0.23004141,\n",
              "       -0.4402946 ,  0.16121083, -0.50408846,  0.11796171, -0.9046688 ,\n",
              "        0.37909985,  0.19123016,  0.54936516, -0.18014318, -0.12716937,\n",
              "        0.29753062, -0.3910463 , -0.01090024, -0.50017756,  0.0937112 ,\n",
              "        0.77407014,  0.1154747 ,  0.03816618, -0.5606551 , -0.21365766,\n",
              "        0.4472977 , -0.10402785, -0.4047231 , -0.4090116 , -0.95374274,\n",
              "        0.11766389, -0.49192047, -0.07744063, -0.06694867,  0.55791193,\n",
              "       -0.32085195, -0.4461659 , -0.01064048,  0.19318528,  0.39537653,\n",
              "        0.23345898, -0.6495619 , -0.29875797, -0.17107008, -0.45810527,\n",
              "        0.46715084,  0.35699263,  0.13146962, -0.5240319 ,  0.16657676,\n",
              "        0.32015938,  0.2257052 , -0.10219441,  0.07432225, -0.6735893 ,\n",
              "        0.4548207 ,  0.10444452,  0.31848592, -0.5984299 ,  0.6580883 ,\n",
              "       -0.20648724,  0.35570326,  0.5591559 , -0.26455936,  0.5311505 ,\n",
              "        0.35839745, -0.06544464,  0.04530162, -0.29736543,  0.01884824,\n",
              "       -0.29475248, -0.22430986, -0.5056022 ,  0.7178846 , -0.16717389,\n",
              "       -0.08195906,  0.14486995,  0.6686236 ,  0.7223941 ,  0.25331712,\n",
              "        0.71842724,  0.17904276, -0.04970765,  0.07918081,  0.82487214,\n",
              "        0.43078864,  0.27298567, -0.7770477 ,  0.2447625 , -0.24939217],\n",
              "      dtype=float32)"
            ]
          },
          "metadata": {},
          "execution_count": 11
        }
      ]
    },
    {
      "cell_type": "code",
      "source": [
        "def vectorize(sentence):\n",
        "    words = sentence.split()\n",
        "    words_vecs = [w2v_model.wv[word] for word in words if word in w2v_model.wv]\n",
        "    if len(words_vecs) == 0:\n",
        "        return np.zeros(100)\n",
        "    words_vecs = np.array(words_vecs)\n",
        "    return words_vecs.mean(axis=0)"
      ],
      "metadata": {
        "id": "J-sLLSYmSu0s"
      },
      "execution_count": 12,
      "outputs": []
    },
    {
      "cell_type": "code",
      "source": [
        "X_train = np.array([vectorize(sentence) for sentence in X_train])\n",
        "X_test = np.array([vectorize(sentence) for sentence in X_test])"
      ],
      "metadata": {
        "id": "JKANyRkMSxu4"
      },
      "execution_count": 13,
      "outputs": []
    },
    {
      "cell_type": "code",
      "source": [
        "X_train"
      ],
      "metadata": {
        "colab": {
          "base_uri": "https://localhost:8080/"
        },
        "id": "hnpMS7eKSzpI",
        "outputId": "3edcca98-08ce-4d95-c014-df64877dd343"
      },
      "execution_count": 14,
      "outputs": [
        {
          "output_type": "execute_result",
          "data": {
            "text/plain": [
              "array([[-0.30522043,  0.3433368 ,  0.10476334, ..., -0.48458737,\n",
              "         0.15036666, -0.15692307],\n",
              "       [-0.30324468,  0.34280136,  0.1033288 , ..., -0.48052835,\n",
              "         0.14891775, -0.15569067],\n",
              "       [-0.34640148,  0.3897256 ,  0.11938021, ..., -0.5505515 ,\n",
              "         0.17121273, -0.17925556],\n",
              "       ...,\n",
              "       [-0.28481975,  0.31743425,  0.09643262, ..., -0.44734457,\n",
              "         0.13829128, -0.14557323],\n",
              "       [-0.29390788,  0.33164886,  0.10115124, ..., -0.46591237,\n",
              "         0.14310603, -0.14947583],\n",
              "       [-0.31120834,  0.35228005,  0.10843402, ..., -0.49303642,\n",
              "         0.1531043 , -0.16033573]], dtype=float32)"
            ]
          },
          "metadata": {},
          "execution_count": 14
        }
      ]
    },
    {
      "cell_type": "code",
      "source": [
        "len(X_train[0]),len(X_train)"
      ],
      "metadata": {
        "colab": {
          "base_uri": "https://localhost:8080/"
        },
        "id": "e54t_DKaS1Y3",
        "outputId": "9eb92a6c-0614-46de-ce62-593957faf16f"
      },
      "execution_count": 15,
      "outputs": [
        {
          "output_type": "execute_result",
          "data": {
            "text/plain": [
              "(100, 891)"
            ]
          },
          "metadata": {},
          "execution_count": 15
        }
      ]
    },
    {
      "cell_type": "code",
      "source": [
        "# Train a classification model\n",
        "clf = LogisticRegression()\n",
        "clf.fit(X_train, y_train)\n",
        "# Evaluate the model\n",
        "y_pred = clf.predict(X_test)\n",
        "\n",
        "print('Accuracy:', accuracy_score(y_test, y_pred))\n",
        "print('Precision:', precision_score(y_test, y_pred, pos_label='positive'))\n",
        "print('Recall:', recall_score(y_test, y_pred, pos_label='positive'))\n",
        "print('F1 score:', f1_score(y_test, y_pred, pos_label='positive'))"
      ],
      "metadata": {
        "colab": {
          "base_uri": "https://localhost:8080/"
        },
        "id": "AQtjD7YKS3oq",
        "outputId": "809d2271-4156-4c77-ea23-3d1576d03dec"
      },
      "execution_count": 17,
      "outputs": [
        {
          "output_type": "stream",
          "name": "stdout",
          "text": [
            "Accuracy: 0.547085201793722\n",
            "Precision: 0.5533980582524272\n",
            "Recall: 0.5089285714285714\n",
            "F1 score: 0.5302325581395348\n"
          ]
        }
      ]
    },
    {
      "cell_type": "code",
      "source": [
        "X_test='movie direction is good, but not a good story'\n",
        "X_test = preprocess(X_test)\n",
        "X_test = np.array([vectorize(X_test)])\n",
        "print(len(X_test))\n",
        "clf.predict(X_test)"
      ],
      "metadata": {
        "colab": {
          "base_uri": "https://localhost:8080/"
        },
        "id": "RWZLjoDJS52B",
        "outputId": "5b65c3f0-5e85-48e2-c1e6-7f2c3c5bdab5"
      },
      "execution_count": 18,
      "outputs": [
        {
          "output_type": "stream",
          "name": "stdout",
          "text": [
            "1\n"
          ]
        },
        {
          "output_type": "execute_result",
          "data": {
            "text/plain": [
              "array(['negative'], dtype=object)"
            ]
          },
          "metadata": {},
          "execution_count": 18
        }
      ]
    },
    {
      "cell_type": "code",
      "source": [
        "# problem ======= solution approach\n",
        "# text  preprocess vectors\n",
        "\n",
        "# vectors :  word2vec   glove  fasttext   bert   gpt"
      ],
      "metadata": {
        "id": "9wFK5N-ITOvb"
      },
      "execution_count": 20,
      "outputs": []
    },
    {
      "cell_type": "code",
      "source": [],
      "metadata": {
        "id": "riN0-PjhTSu1"
      },
      "execution_count": null,
      "outputs": []
    }
  ]
}